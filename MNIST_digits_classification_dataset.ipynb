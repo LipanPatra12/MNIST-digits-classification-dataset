{
  "nbformat": 4,
  "nbformat_minor": 0,
  "metadata": {
    "colab": {
      "provenance": [],
      "gpuType": "T4"
    },
    "kernelspec": {
      "name": "python3",
      "display_name": "Python 3"
    },
    "language_info": {
      "name": "python"
    },
    "accelerator": "GPU"
  },
  "cells": [
    {
      "cell_type": "code",
      "execution_count": null,
      "metadata": {
        "id": "ehkdqbCzfs-A"
      },
      "outputs": [],
      "source": [
        "# Libraries\n",
        "import numpy as np\n",
        "import pandas as pd\n",
        "import matplotlib.pyplot as plt\n",
        "import seaborn as sns\n",
        "import random\n",
        "\n",
        "# keras\n",
        "import keras\n",
        "from keras.models import Sequential\n",
        "from keras.layers import Conv2D, MaxPooling2D, Flatten, Dense\n",
        "\n",
        "# metrics for validation\n",
        "from sklearn.metrics import ConfusionMatrixDisplay, classification_report\n",
        "\n",
        "# ignore the harmless warnings\n",
        "import warnings\n",
        "warnings.filterwarnings('ignore')"
      ]
    },
    {
      "cell_type": "code",
      "source": [
        "(x_train, y_train), (x_test, y_test) = keras.datasets.mnist.load_data()\n",
        "print(x_train.shape)\n",
        "print(x_test.shape)\n",
        "print(y_train.shape)\n",
        "print(y_test.shape)"
      ],
      "metadata": {
        "colab": {
          "base_uri": "https://localhost:8080/"
        },
        "id": "SlNriGN7gHl5",
        "outputId": "2b47027d-89c5-49d0-eae8-94f3e1c12e77"
      },
      "execution_count": null,
      "outputs": [
        {
          "output_type": "stream",
          "name": "stdout",
          "text": [
            "Downloading data from https://storage.googleapis.com/tensorflow/tf-keras-datasets/mnist.npz\n",
            "\u001b[1m11490434/11490434\u001b[0m \u001b[32m━━━━━━━━━━━━━━━━━━━━\u001b[0m\u001b[37m\u001b[0m \u001b[1m0s\u001b[0m 0us/step\n",
            "(60000, 28, 28)\n",
            "(10000, 28, 28)\n",
            "(60000,)\n",
            "(10000,)\n"
          ]
        }
      ]
    },
    {
      "cell_type": "code",
      "source": [
        "# target data\n",
        "np.unique(y_train)"
      ],
      "metadata": {
        "colab": {
          "base_uri": "https://localhost:8080/"
        },
        "id": "5FV0fN_4gHyr",
        "outputId": "a4b3b51c-2552-423c-cda0-ea5ccb5c9491"
      },
      "execution_count": null,
      "outputs": [
        {
          "output_type": "execute_result",
          "data": {
            "text/plain": [
              "array([0, 1, 2, 3, 4, 5, 6, 7, 8, 9], dtype=uint8)"
            ]
          },
          "metadata": {},
          "execution_count": 8
        }
      ]
    },
    {
      "cell_type": "code",
      "source": [
        "# array for the first data image\n",
        "print(x_train[0])"
      ],
      "metadata": {
        "colab": {
          "base_uri": "https://localhost:8080/"
        },
        "id": "WiR7SMP2gH1j",
        "outputId": "7e460197-5552-4cad-daa1-01ca4f04cd14"
      },
      "execution_count": null,
      "outputs": [
        {
          "output_type": "stream",
          "name": "stdout",
          "text": [
            "[[  0   0   0   0   0   0   0   0   0   0   0   0   0   0   0   0   0   0\n",
            "    0   0   0   0   0   0   0   0   0   0]\n",
            " [  0   0   0   0   0   0   0   0   0   0   0   0   0   0   0   0   0   0\n",
            "    0   0   0   0   0   0   0   0   0   0]\n",
            " [  0   0   0   0   0   0   0   0   0   0   0   0   0   0   0   0   0   0\n",
            "    0   0   0   0   0   0   0   0   0   0]\n",
            " [  0   0   0   0   0   0   0   0   0   0   0   0   0   0   0   0   0   0\n",
            "    0   0   0   0   0   0   0   0   0   0]\n",
            " [  0   0   0   0   0   0   0   0   0   0   0   0   0   0   0   0   0   0\n",
            "    0   0   0   0   0   0   0   0   0   0]\n",
            " [  0   0   0   0   0   0   0   0   0   0   0   0   3  18  18  18 126 136\n",
            "  175  26 166 255 247 127   0   0   0   0]\n",
            " [  0   0   0   0   0   0   0   0  30  36  94 154 170 253 253 253 253 253\n",
            "  225 172 253 242 195  64   0   0   0   0]\n",
            " [  0   0   0   0   0   0   0  49 238 253 253 253 253 253 253 253 253 251\n",
            "   93  82  82  56  39   0   0   0   0   0]\n",
            " [  0   0   0   0   0   0   0  18 219 253 253 253 253 253 198 182 247 241\n",
            "    0   0   0   0   0   0   0   0   0   0]\n",
            " [  0   0   0   0   0   0   0   0  80 156 107 253 253 205  11   0  43 154\n",
            "    0   0   0   0   0   0   0   0   0   0]\n",
            " [  0   0   0   0   0   0   0   0   0  14   1 154 253  90   0   0   0   0\n",
            "    0   0   0   0   0   0   0   0   0   0]\n",
            " [  0   0   0   0   0   0   0   0   0   0   0 139 253 190   2   0   0   0\n",
            "    0   0   0   0   0   0   0   0   0   0]\n",
            " [  0   0   0   0   0   0   0   0   0   0   0  11 190 253  70   0   0   0\n",
            "    0   0   0   0   0   0   0   0   0   0]\n",
            " [  0   0   0   0   0   0   0   0   0   0   0   0  35 241 225 160 108   1\n",
            "    0   0   0   0   0   0   0   0   0   0]\n",
            " [  0   0   0   0   0   0   0   0   0   0   0   0   0  81 240 253 253 119\n",
            "   25   0   0   0   0   0   0   0   0   0]\n",
            " [  0   0   0   0   0   0   0   0   0   0   0   0   0   0  45 186 253 253\n",
            "  150  27   0   0   0   0   0   0   0   0]\n",
            " [  0   0   0   0   0   0   0   0   0   0   0   0   0   0   0  16  93 252\n",
            "  253 187   0   0   0   0   0   0   0   0]\n",
            " [  0   0   0   0   0   0   0   0   0   0   0   0   0   0   0   0   0 249\n",
            "  253 249  64   0   0   0   0   0   0   0]\n",
            " [  0   0   0   0   0   0   0   0   0   0   0   0   0   0  46 130 183 253\n",
            "  253 207   2   0   0   0   0   0   0   0]\n",
            " [  0   0   0   0   0   0   0   0   0   0   0   0  39 148 229 253 253 253\n",
            "  250 182   0   0   0   0   0   0   0   0]\n",
            " [  0   0   0   0   0   0   0   0   0   0  24 114 221 253 253 253 253 201\n",
            "   78   0   0   0   0   0   0   0   0   0]\n",
            " [  0   0   0   0   0   0   0   0  23  66 213 253 253 253 253 198  81   2\n",
            "    0   0   0   0   0   0   0   0   0   0]\n",
            " [  0   0   0   0   0   0  18 171 219 253 253 253 253 195  80   9   0   0\n",
            "    0   0   0   0   0   0   0   0   0   0]\n",
            " [  0   0   0   0  55 172 226 253 253 253 253 244 133  11   0   0   0   0\n",
            "    0   0   0   0   0   0   0   0   0   0]\n",
            " [  0   0   0   0 136 253 253 253 212 135 132  16   0   0   0   0   0   0\n",
            "    0   0   0   0   0   0   0   0   0   0]\n",
            " [  0   0   0   0   0   0   0   0   0   0   0   0   0   0   0   0   0   0\n",
            "    0   0   0   0   0   0   0   0   0   0]\n",
            " [  0   0   0   0   0   0   0   0   0   0   0   0   0   0   0   0   0   0\n",
            "    0   0   0   0   0   0   0   0   0   0]\n",
            " [  0   0   0   0   0   0   0   0   0   0   0   0   0   0   0   0   0   0\n",
            "    0   0   0   0   0   0   0   0   0   0]]\n"
          ]
        }
      ]
    },
    {
      "cell_type": "code",
      "source": [
        "plt.imshow(x_train[0], cmap='grey')\n",
        "plt.show()"
      ],
      "metadata": {
        "colab": {
          "base_uri": "https://localhost:8080/",
          "height": 430
        },
        "id": "uYkaMWUSgH4h",
        "outputId": "63926ab6-c040-41e3-94f6-6832d3874754"
      },
      "execution_count": null,
      "outputs": [
        {
          "output_type": "display_data",
          "data": {
            "text/plain": [
              "<Figure size 640x480 with 1 Axes>"
            ],
            "image/png": "[encoded data removed]"
          },
          "metadata": {}
        }
      ]
    },
    {
      "cell_type": "code",
      "source": [
        "def rdm_sample_img(x, y):\n",
        "    rdm_img = random.randint(0, len(x))\n",
        "    plt.figure(figsize=(10, 3))\n",
        "    plt.imshow(x[rdm_img])\n",
        "    plt.show()\n",
        "    print('The class label for the image is:', y[rdm_img])"
      ],
      "metadata": {
        "id": "1ZwHlqrYgH63"
      },
      "execution_count": null,
      "outputs": []
    },
    {
      "cell_type": "code",
      "source": [
        "# function call for training data\n",
        "rdm_sample_img(x_train, y_train)"
      ],
      "metadata": {
        "id": "Gxb0ms91gH9q",
        "colab": {
          "base_uri": "https://localhost:8080/",
          "height": 310
        },
        "outputId": "02ce491b-ac9c-40fc-b87b-c3ba31c11d54"
      },
      "execution_count": null,
      "outputs": [
        {
          "output_type": "display_data",
          "data": {
            "text/plain": [
              "<Figure size 1000x300 with 1 Axes>"
            ],
            "image/png": "[encoded data removed]"
          },
          "metadata": {}
        },
        {
          "output_type": "stream",
          "name": "stdout",
          "text": [
            "The class label for the image is: 7\n"
          ]
        }
      ]
    },
    {
      "cell_type": "code",
      "source": [
        "# scaling the data\n",
        "x_train = x_train/255\n",
        "x_test = x_test/255"
      ],
      "metadata": {
        "id": "cbsHE-qxgIA1"
      },
      "execution_count": null,
      "outputs": []
    },
    {
      "cell_type": "code",
      "source": [
        "# reshape the image into 4 dimensions - [# no of image, # rows, # columns, # layers]\n",
        "\n",
        "x_train = x_train.reshape(len(x_train), 28, 28, 1)\n",
        "x_test = x_test.reshape(len(x_test), 28, 28, 1)"
      ],
      "metadata": {
        "id": "wTJ3kMEJgID6"
      },
      "execution_count": null,
      "outputs": []
    },
    {
      "cell_type": "code",
      "source": [
        "# Building the hyper model\n",
        "\n",
        "def hyper_model(hp):\n",
        "    model = Sequential([\n",
        "        Conv2D(filters = hp.Int('conv_1_filters', min_value=32, max_value=128, step=4),\n",
        "               kernel_size = hp.Choice('conv_1_kernel', values=[3, 4, 5]),\n",
        "               activation='relu',\n",
        "               input_shape = (28, 28, 1)),\n",
        "        Conv2D(filters = hp.Int('conv_2_filters', min_value=8, max_value=64, step=2),\n",
        "               kernel_size = hp.Choice('conv_2_kernel', values=[3, 4, 5]),\n",
        "               activation='relu'),\n",
        "        MaxPooling2D((2, 2)),\n",
        "\n",
        "        Flatten(),\n",
        "\n",
        "        Dense(units=hp.Int('dense_1_units', min_value=32, max_value=256, step=2),\n",
        "              activation = hp.Choice('dense_1_activation', ['relu', 'tanh'])),\n",
        "        Dense(units=hp.Int('dense_2_units', min_value=32, max_value=126, step=2),\n",
        "              activation = hp.Choice('dense_2_activation', ['relu', 'tanh'])),\n",
        "        Dense(10, activation='softmax')\n",
        "    ])\n",
        "\n",
        "    model.compile(optimizer = keras.optimizers.Adam(hp.Choice('learning_rate', values=[1e-2, 1e-3, 1e-4])),\n",
        "                  loss='sparse_categorical_crossentropy',\n",
        "                  metrics=['accuracy'])\n",
        "\n",
        "    return model"
      ],
      "metadata": {
        "id": "HrxM3O6egIGR"
      },
      "execution_count": null,
      "outputs": []
    },
    {
      "cell_type": "code",
      "source": [
        "pip install keras-tuner\n"
      ],
      "metadata": {
        "id": "ApyA2BlxgIJV",
        "colab": {
          "base_uri": "https://localhost:8080/"
        },
        "outputId": "d83a4093-5eb9-48f7-9de1-c08d31d91134"
      },
      "execution_count": null,
      "outputs": [
        {
          "output_type": "stream",
          "name": "stdout",
          "text": [
            "Collecting keras-tuner\n",
            "  Downloading keras_tuner-1.4.7-py3-none-any.whl.metadata (5.4 kB)\n",
            "Requirement already satisfied: keras in /usr/local/lib/python3.12/dist-packages (from keras-tuner) (3.10.0)\n",
            "Requirement already satisfied: packaging in /usr/local/lib/python3.12/dist-packages (from keras-tuner) (25.0)\n",
            "Requirement already satisfied: requests in /usr/local/lib/python3.12/dist-packages (from keras-tuner) (2.32.4)\n",
            "Collecting kt-legacy (from keras-tuner)\n",
            "  Downloading kt_legacy-1.0.5-py3-none-any.whl.metadata (221 bytes)\n",
            "Requirement already satisfied: absl-py in /usr/local/lib/python3.12/dist-packages (from keras->keras-tuner) (1.4.0)\n",
            "Requirement already satisfied: numpy in /usr/local/lib/python3.12/dist-packages (from keras->keras-tuner) (2.0.2)\n",
            "Requirement already satisfied: rich in /usr/local/lib/python3.12/dist-packages (from keras->keras-tuner) (13.9.4)\n",
            "Requirement already satisfied: namex in /usr/local/lib/python3.12/dist-packages (from keras->keras-tuner) (0.1.0)\n",
            "Requirement already satisfied: h5py in /usr/local/lib/python3.12/dist-packages (from keras->keras-tuner) (3.14.0)\n",
            "Requirement already satisfied: optree in /usr/local/lib/python3.12/dist-packages (from keras->keras-tuner) (0.17.0)\n",
            "Requirement already satisfied: ml-dtypes in /usr/local/lib/python3.12/dist-packages (from keras->keras-tuner) (0.5.3)\n",
            "Requirement already satisfied: charset_normalizer<4,>=2 in /usr/local/lib/python3.12/dist-packages (from requests->keras-tuner) (3.4.3)\n",
            "Requirement already satisfied: idna<4,>=2.5 in /usr/local/lib/python3.12/dist-packages (from requests->keras-tuner) (3.10)\n",
            "Requirement already satisfied: urllib3<3,>=1.21.1 in /usr/local/lib/python3.12/dist-packages (from requests->keras-tuner) (2.5.0)\n",
            "Requirement already satisfied: certifi>=2017.4.17 in /usr/local/lib/python3.12/dist-packages (from requests->keras-tuner) (2025.8.3)\n",
            "Requirement already satisfied: typing-extensions>=4.6.0 in /usr/local/lib/python3.12/dist-packages (from optree->keras->keras-tuner) (4.15.0)\n",
            "Requirement already satisfied: markdown-it-py>=2.2.0 in /usr/local/lib/python3.12/dist-packages (from rich->keras->keras-tuner) (4.0.0)\n",
            "Requirement already satisfied: pygments<3.0.0,>=2.13.0 in /usr/local/lib/python3.12/dist-packages (from rich->keras->keras-tuner) (2.19.2)\n",
            "Requirement already satisfied: mdurl~=0.1 in /usr/local/lib/python3.12/dist-packages (from markdown-it-py>=2.2.0->rich->keras->keras-tuner) (0.1.2)\n",
            "Downloading keras_tuner-1.4.7-py3-none-any.whl (129 kB)\n",
            "\u001b[2K   \u001b[90m━━━━━━━━━━━━━━━━━━━━━━━━━━━━━━━━━━━━━━━━\u001b[0m \u001b[32m129.1/129.1 kB\u001b[0m \u001b[31m5.7 MB/s\u001b[0m eta \u001b[36m0:00:00\u001b[0m\n",
            "\u001b[?25hDownloading kt_legacy-1.0.5-py3-none-any.whl (9.6 kB)\n",
            "Installing collected packages: kt-legacy, keras-tuner\n",
            "Successfully installed keras-tuner-1.4.7 kt-legacy-1.0.5\n"
          ]
        }
      ]
    },
    {
      "cell_type": "code",
      "source": [
        "from kerastuner.tuners import RandomSearch\n"
      ],
      "metadata": {
        "id": "mNR_T_gKgIML"
      },
      "execution_count": null,
      "outputs": []
    },
    {
      "cell_type": "code",
      "source": [
        "tuner_output = RandomSearch(hyper_model,\n",
        "                            objective='val_accuracy',\n",
        "                            max_trials=5,\n",
        "                            project_name='Mnist optimisation')"
      ],
      "metadata": {
        "id": "0pmXY2KfgIO7"
      },
      "execution_count": null,
      "outputs": []
    },
    {
      "cell_type": "code",
      "source": [
        "tuner_output.search(x_train, y_train, epochs=10, validation_split=0.2)"
      ],
      "metadata": {
        "id": "1PlotlC3gIRr",
        "colab": {
          "base_uri": "https://localhost:8080/"
        },
        "outputId": "63ab5a1b-e83d-4303-b367-5d722eb72f4e"
      },
      "execution_count": null,
      "outputs": [
        {
          "output_type": "stream",
          "name": "stdout",
          "text": [
            "Trial 5 Complete [00h 01m 25s]\n",
            "val_accuracy: 0.9883333444595337\n",
            "\n",
            "Best val_accuracy So Far: 0.9894166588783264\n",
            "Total elapsed time: 00h 07m 31s\n"
          ]
        }
      ]
    },
    {
      "cell_type": "code",
      "source": [
        "# extracting the best model so far\n",
        "final_model = tuner_output.get_best_models(num_models=1)[0]"
      ],
      "metadata": {
        "id": "2RR02ttRgIVL"
      },
      "execution_count": null,
      "outputs": []
    },
    {
      "cell_type": "code",
      "source": [
        "# best model summary\n",
        "final_model.summary()"
      ],
      "metadata": {
        "id": "AtTtny7BgIYN",
        "colab": {
          "base_uri": "https://localhost:8080/",
          "height": 374
        },
        "outputId": "ad73dc83-443d-4e9d-decb-72984afaf0da"
      },
      "execution_count": null,
      "outputs": [
        {
          "output_type": "display_data",
          "data": {
            "text/plain": [
              "\u001b[1mModel: \"sequential\"\u001b[0m\n"
            ],
            "text/html": [
              "<pre style=\"white-space:pre;overflow-x:auto;line-height:normal;font-family:Menlo,'DejaVu Sans Mono',consolas,'Courier New',monospace\"><span style=\"font-weight: bold\">Model: \"sequential\"</span>\n",
              "</pre>\n"
            ]
          },
          "metadata": {}
        },
        {
          "output_type": "display_data",
          "data": {
            "text/plain": [
              "┏━━━━━━━━━━━━━━━━━━━━━━━━━━━━━━━━━┳━━━━━━━━━━━━━━━━━━━━━━━━┳━━━━━━━━━━━━━━━┓\n",
              "┃\u001b[1m \u001b[0m\u001b[1mLayer (type)                   \u001b[0m\u001b[1m \u001b[0m┃\u001b[1m \u001b[0m\u001b[1mOutput Shape          \u001b[0m\u001b[1m \u001b[0m┃\u001b[1m \u001b[0m\u001b[1m      Param #\u001b[0m\u001b[1m \u001b[0m┃\n",
              "┡━━━━━━━━━━━━━━━━━━━━━━━━━━━━━━━━━╇━━━━━━━━━━━━━━━━━━━━━━━━╇━━━━━━━━━━━━━━━┩\n",
              "│ conv2d (\u001b[38;5;33mConv2D\u001b[0m)                 │ (\u001b[38;5;45mNone\u001b[0m, \u001b[38;5;34m24\u001b[0m, \u001b[38;5;34m24\u001b[0m, \u001b[38;5;34m120\u001b[0m)    │         \u001b[38;5;34m3,120\u001b[0m │\n",
              "├─────────────────────────────────┼────────────────────────┼───────────────┤\n",
              "│ conv2d_1 (\u001b[38;5;33mConv2D\u001b[0m)               │ (\u001b[38;5;45mNone\u001b[0m, \u001b[38;5;34m22\u001b[0m, \u001b[38;5;34m22\u001b[0m, \u001b[38;5;34m38\u001b[0m)     │        \u001b[38;5;34m41,078\u001b[0m │\n",
              "├─────────────────────────────────┼────────────────────────┼───────────────┤\n",
              "│ max_pooling2d (\u001b[38;5;33mMaxPooling2D\u001b[0m)    │ (\u001b[38;5;45mNone\u001b[0m, \u001b[38;5;34m11\u001b[0m, \u001b[38;5;34m11\u001b[0m, \u001b[38;5;34m38\u001b[0m)     │             \u001b[38;5;34m0\u001b[0m │\n",
              "├─────────────────────────────────┼────────────────────────┼───────────────┤\n",
              "│ flatten (\u001b[38;5;33mFlatten\u001b[0m)               │ (\u001b[38;5;45mNone\u001b[0m, \u001b[38;5;34m4598\u001b[0m)           │             \u001b[38;5;34m0\u001b[0m │\n",
              "├─────────────────────────────────┼────────────────────────┼───────────────┤\n",
              "│ dense (\u001b[38;5;33mDense\u001b[0m)                   │ (\u001b[38;5;45mNone\u001b[0m, \u001b[38;5;34m232\u001b[0m)            │     \u001b[38;5;34m1,066,968\u001b[0m │\n",
              "├─────────────────────────────────┼────────────────────────┼───────────────┤\n",
              "│ dense_1 (\u001b[38;5;33mDense\u001b[0m)                 │ (\u001b[38;5;45mNone\u001b[0m, \u001b[38;5;34m96\u001b[0m)             │        \u001b[38;5;34m22,368\u001b[0m │\n",
              "├─────────────────────────────────┼────────────────────────┼───────────────┤\n",
              "│ dense_2 (\u001b[38;5;33mDense\u001b[0m)                 │ (\u001b[38;5;45mNone\u001b[0m, \u001b[38;5;34m10\u001b[0m)             │           \u001b[38;5;34m970\u001b[0m │\n",
              "└─────────────────────────────────┴────────────────────────┴───────────────┘\n"
            ],
            "text/html": [
              "<pre style=\"white-space:pre;overflow-x:auto;line-height:normal;font-family:Menlo,'DejaVu Sans Mono',consolas,'Courier New',monospace\">┏━━━━━━━━━━━━━━━━━━━━━━━━━━━━━━━━━┳━━━━━━━━━━━━━━━━━━━━━━━━┳━━━━━━━━━━━━━━━┓\n",
              "┃<span style=\"font-weight: bold\"> Layer (type)                    </span>┃<span style=\"font-weight: bold\"> Output Shape           </span>┃<span style=\"font-weight: bold\">       Param # </span>┃\n",
              "┡━━━━━━━━━━━━━━━━━━━━━━━━━━━━━━━━━╇━━━━━━━━━━━━━━━━━━━━━━━━╇━━━━━━━━━━━━━━━┩\n",
              "│ conv2d (<span style=\"color: #0087ff; text-decoration-color: #0087ff\">Conv2D</span>)                 │ (<span style=\"color: #00d7ff; text-decoration-color: #00d7ff\">None</span>, <span style=\"color: #00af00; text-decoration-color: #00af00\">24</span>, <span style=\"color: #00af00; text-decoration-color: #00af00\">24</span>, <span style=\"color: #00af00; text-decoration-color: #00af00\">120</span>)    │         <span style=\"color: #00af00; text-decoration-color: #00af00\">3,120</span> │\n",
              "├─────────────────────────────────┼────────────────────────┼───────────────┤\n",
              "│ conv2d_1 (<span style=\"color: #0087ff; text-decoration-color: #0087ff\">Conv2D</span>)               │ (<span style=\"color: #00d7ff; text-decoration-color: #00d7ff\">None</span>, <span style=\"color: #00af00; text-decoration-color: #00af00\">22</span>, <span style=\"color: #00af00; text-decoration-color: #00af00\">22</span>, <span style=\"color: #00af00; text-decoration-color: #00af00\">38</span>)     │        <span style=\"color: #00af00; text-decoration-color: #00af00\">41,078</span> │\n",
              "├─────────────────────────────────┼────────────────────────┼───────────────┤\n",
              "│ max_pooling2d (<span style=\"color: #0087ff; text-decoration-color: #0087ff\">MaxPooling2D</span>)    │ (<span style=\"color: #00d7ff; text-decoration-color: #00d7ff\">None</span>, <span style=\"color: #00af00; text-decoration-color: #00af00\">11</span>, <span style=\"color: #00af00; text-decoration-color: #00af00\">11</span>, <span style=\"color: #00af00; text-decoration-color: #00af00\">38</span>)     │             <span style=\"color: #00af00; text-decoration-color: #00af00\">0</span> │\n",
              "├─────────────────────────────────┼────────────────────────┼───────────────┤\n",
              "│ flatten (<span style=\"color: #0087ff; text-decoration-color: #0087ff\">Flatten</span>)               │ (<span style=\"color: #00d7ff; text-decoration-color: #00d7ff\">None</span>, <span style=\"color: #00af00; text-decoration-color: #00af00\">4598</span>)           │             <span style=\"color: #00af00; text-decoration-color: #00af00\">0</span> │\n",
              "├─────────────────────────────────┼────────────────────────┼───────────────┤\n",
              "│ dense (<span style=\"color: #0087ff; text-decoration-color: #0087ff\">Dense</span>)                   │ (<span style=\"color: #00d7ff; text-decoration-color: #00d7ff\">None</span>, <span style=\"color: #00af00; text-decoration-color: #00af00\">232</span>)            │     <span style=\"color: #00af00; text-decoration-color: #00af00\">1,066,968</span> │\n",
              "├─────────────────────────────────┼────────────────────────┼───────────────┤\n",
              "│ dense_1 (<span style=\"color: #0087ff; text-decoration-color: #0087ff\">Dense</span>)                 │ (<span style=\"color: #00d7ff; text-decoration-color: #00d7ff\">None</span>, <span style=\"color: #00af00; text-decoration-color: #00af00\">96</span>)             │        <span style=\"color: #00af00; text-decoration-color: #00af00\">22,368</span> │\n",
              "├─────────────────────────────────┼────────────────────────┼───────────────┤\n",
              "│ dense_2 (<span style=\"color: #0087ff; text-decoration-color: #0087ff\">Dense</span>)                 │ (<span style=\"color: #00d7ff; text-decoration-color: #00d7ff\">None</span>, <span style=\"color: #00af00; text-decoration-color: #00af00\">10</span>)             │           <span style=\"color: #00af00; text-decoration-color: #00af00\">970</span> │\n",
              "└─────────────────────────────────┴────────────────────────┴───────────────┘\n",
              "</pre>\n"
            ]
          },
          "metadata": {}
        },
        {
          "output_type": "display_data",
          "data": {
            "text/plain": [
              "\u001b[1m Total params: \u001b[0m\u001b[38;5;34m1,134,504\u001b[0m (4.33 MB)\n"
            ],
            "text/html": [
              "<pre style=\"white-space:pre;overflow-x:auto;line-height:normal;font-family:Menlo,'DejaVu Sans Mono',consolas,'Courier New',monospace\"><span style=\"font-weight: bold\"> Total params: </span><span style=\"color: #00af00; text-decoration-color: #00af00\">1,134,504</span> (4.33 MB)\n",
              "</pre>\n"
            ]
          },
          "metadata": {}
        },
        {
          "output_type": "display_data",
          "data": {
            "text/plain": [
              "\u001b[1m Trainable params: \u001b[0m\u001b[38;5;34m1,134,504\u001b[0m (4.33 MB)\n"
            ],
            "text/html": [
              "<pre style=\"white-space:pre;overflow-x:auto;line-height:normal;font-family:Menlo,'DejaVu Sans Mono',consolas,'Courier New',monospace\"><span style=\"font-weight: bold\"> Trainable params: </span><span style=\"color: #00af00; text-decoration-color: #00af00\">1,134,504</span> (4.33 MB)\n",
              "</pre>\n"
            ]
          },
          "metadata": {}
        },
        {
          "output_type": "display_data",
          "data": {
            "text/plain": [
              "\u001b[1m Non-trainable params: \u001b[0m\u001b[38;5;34m0\u001b[0m (0.00 B)\n"
            ],
            "text/html": [
              "<pre style=\"white-space:pre;overflow-x:auto;line-height:normal;font-family:Menlo,'DejaVu Sans Mono',consolas,'Courier New',monospace\"><span style=\"font-weight: bold\"> Non-trainable params: </span><span style=\"color: #00af00; text-decoration-color: #00af00\">0</span> (0.00 B)\n",
              "</pre>\n"
            ]
          },
          "metadata": {}
        }
      ]
    },
    {
      "cell_type": "code",
      "source": [
        "# fitting the data onto the final model\n",
        "final_model.fit(x_train, y_train, epochs=12, initial_epoch=10, validation_split=0.2)"
      ],
      "metadata": {
        "id": "vEXO9nfDgIa9",
        "colab": {
          "base_uri": "https://localhost:8080/"
        },
        "outputId": "bf970e2e-d7b8-4009-d5cd-fb00bed3ca6f"
      },
      "execution_count": null,
      "outputs": [
        {
          "output_type": "stream",
          "name": "stdout",
          "text": [
            "Epoch 11/12\n",
            "\u001b[1m1500/1500\u001b[0m \u001b[32m━━━━━━━━━━━━━━━━━━━━\u001b[0m\u001b[37m\u001b[0m \u001b[1m11s\u001b[0m 5ms/step - accuracy: 0.9983 - loss: 0.0058 - val_accuracy: 0.9864 - val_loss: 0.0542\n",
            "Epoch 12/12\n",
            "\u001b[1m1500/1500\u001b[0m \u001b[32m━━━━━━━━━━━━━━━━━━━━\u001b[0m\u001b[37m\u001b[0m \u001b[1m8s\u001b[0m 5ms/step - accuracy: 0.9974 - loss: 0.0068 - val_accuracy: 0.9877 - val_loss: 0.0499\n"
          ]
        },
        {
          "output_type": "execute_result",
          "data": {
            "text/plain": [
              "<keras.src.callbacks.history.History at 0x7f2af9942ea0>"
            ]
          },
          "metadata": {},
          "execution_count": 24
        }
      ]
    },
    {
      "cell_type": "code",
      "source": [
        "# model evaluation\n",
        "final_model.evaluate(x_test, y_test)"
      ],
      "metadata": {
        "id": "-jJkJU4LgIdX",
        "colab": {
          "base_uri": "https://localhost:8080/"
        },
        "outputId": "33cb5943-dd6c-4991-e136-f63dbe4b2aa6"
      },
      "execution_count": null,
      "outputs": [
        {
          "output_type": "stream",
          "name": "stdout",
          "text": [
            "\u001b[1m313/313\u001b[0m \u001b[32m━━━━━━━━━━━━━━━━━━━━\u001b[0m\u001b[37m\u001b[0m \u001b[1m2s\u001b[0m 5ms/step - accuracy: 0.9879 - loss: 0.0494\n"
          ]
        },
        {
          "output_type": "execute_result",
          "data": {
            "text/plain": [
              "[0.037690237164497375, 0.9909999966621399]"
            ]
          },
          "metadata": {},
          "execution_count": 25
        }
      ]
    },
    {
      "cell_type": "code",
      "source": [
        "# predictions\n",
        "y_pred = final_model.predict(x_test)"
      ],
      "metadata": {
        "id": "lzaTghAqgIg8",
        "colab": {
          "base_uri": "https://localhost:8080/"
        },
        "outputId": "db33a677-d69a-4e4e-d773-c165c7aa0df7"
      },
      "execution_count": null,
      "outputs": [
        {
          "output_type": "stream",
          "name": "stdout",
          "text": [
            "\u001b[1m313/313\u001b[0m \u001b[32m━━━━━━━━━━━━━━━━━━━━\u001b[0m\u001b[37m\u001b[0m \u001b[1m2s\u001b[0m 4ms/step\n"
          ]
        }
      ]
    },
    {
      "cell_type": "code",
      "source": [
        "y_pred"
      ],
      "metadata": {
        "colab": {
          "base_uri": "https://localhost:8080/"
        },
        "id": "tdts5aKJzF10",
        "outputId": "0f299e83-10f5-4dc3-b899-eaacf5116074"
      },
      "execution_count": null,
      "outputs": [
        {
          "output_type": "execute_result",
          "data": {
            "text/plain": [
              "array([[2.9980516e-09, 8.1437224e-07, 1.4517553e-07, ..., 9.9999809e-01,\n",
              "        4.7469033e-09, 2.2510223e-07],\n",
              "       [7.7524664e-06, 3.6326662e-06, 9.9998522e-01, ..., 1.9740342e-07,\n",
              "        2.8844150e-07, 4.5632871e-09],\n",
              "       [9.2667896e-08, 9.9999869e-01, 3.2845568e-09, ..., 4.1746733e-07,\n",
              "        4.1054102e-07, 4.6240031e-10],\n",
              "       ...,\n",
              "       [8.0934086e-11, 3.4980908e-07, 6.7213257e-08, ..., 8.0082327e-07,\n",
              "        1.7212640e-06, 5.7112279e-06],\n",
              "       [1.2146285e-09, 1.4243503e-08, 6.1637349e-13, ..., 3.7066094e-08,\n",
              "        2.0124149e-07, 1.5979738e-08],\n",
              "       [3.1371721e-07, 6.4720246e-10, 2.8642386e-08, ..., 1.3354741e-09,\n",
              "        5.7931871e-08, 1.8212146e-12]], dtype=float32)"
            ]
          },
          "metadata": {},
          "execution_count": 27
        }
      ]
    },
    {
      "cell_type": "code",
      "source": [
        "y_class = [np.argmax(ele) for ele in y_pred]"
      ],
      "metadata": {
        "id": "Fl9s39xNzF5N"
      },
      "execution_count": null,
      "outputs": []
    },
    {
      "cell_type": "code",
      "source": [
        "y_class"
      ],
      "metadata": {
        "colab": {
          "base_uri": "https://localhost:8080/"
        },
        "collapsed": true,
        "id": "V9-I7YB1zF8c",
        "outputId": "b057fb76-27bc-4e62-82ec-42f606b634dc"
      },
      "execution_count": null,
      "outputs": [
        {
          "output_type": "execute_result",
          "data": {
            "text/plain": [
              "[np.int64(7),\n",
              " np.int64(2),\n",
              " np.int64(1),\n",
              " np.int64(0),\n",
              " np.int64(4),\n",
              " np.int64(1),\n",
              " np.int64(4),\n",
              " np.int64(9),\n",
              " np.int64(5),\n",
              " np.int64(9),\n",
              " np.int64(0),\n",
              " np.int64(6),\n",
              " np.int64(9),\n",
              " np.int64(0),\n",
              " np.int64(1),\n",
              " np.int64(5),\n",
              " np.int64(9),\n",
              " np.int64(7),\n",
              " np.int64(3),\n",
              " np.int64(4),\n",
              " np.int64(9),\n",
              " np.int64(6),\n",
              " np.int64(6),\n",
              " np.int64(5),\n",
              " np.int64(4),\n",
              " np.int64(0),\n",
              " np.int64(7),\n",
              " np.int64(4),\n",
              " np.int64(0),\n",
              " np.int64(1),\n",
              " np.int64(3),\n",
              " np.int64(1),\n",
              " np.int64(3),\n",
              " np.int64(4),\n",
              " np.int64(7),\n",
              " np.int64(2),\n",
              " np.int64(7),\n",
              " np.int64(1),\n",
              " np.int64(2),\n",
              " np.int64(1),\n",
              " np.int64(1),\n",
              " np.int64(7),\n",
              " np.int64(4),\n",
              " np.int64(2),\n",
              " np.int64(3),\n",
              " np.int64(5),\n",
              " np.int64(1),\n",
              " np.int64(2),\n",
              " np.int64(4),\n",
              " np.int64(4),\n",
              " np.int64(6),\n",
              " np.int64(3),\n",
              " np.int64(5),\n",
              " np.int64(5),\n",
              " np.int64(6),\n",
              " np.int64(0),\n",
              " np.int64(4),\n",
              " np.int64(1),\n",
              " np.int64(9),\n",
              " np.int64(5),\n",
              " np.int64(7),\n",
              " np.int64(8),\n",
              " np.int64(9),\n",
              " np.int64(3),\n",
              " np.int64(7),\n",
              " np.int64(4),\n",
              " np.int64(6),\n",
              " np.int64(4),\n",
              " np.int64(3),\n",
              " np.int64(0),\n",
              " np.int64(7),\n",
              " np.int64(0),\n",
              " np.int64(2),\n",
              " np.int64(9),\n",
              " np.int64(1),\n",
              " np.int64(7),\n",
              " np.int64(3),\n",
              " np.int64(2),\n",
              " np.int64(9),\n",
              " np.int64(7),\n",
              " np.int64(7),\n",
              " np.int64(6),\n",
              " np.int64(2),\n",
              " np.int64(7),\n",
              " np.int64(8),\n",
              " np.int64(4),\n",
              " np.int64(7),\n",
              " np.int64(3),\n",
              " np.int64(6),\n",
              " np.int64(1),\n",
              " np.int64(3),\n",
              " np.int64(6),\n",
              " np.int64(9),\n",
              " np.int64(3),\n",
              " np.int64(1),\n",
              " np.int64(4),\n",
              " np.int64(1),\n",
              " np.int64(7),\n",
              " np.int64(6),\n",
              " np.int64(9),\n",
              " np.int64(6),\n",
              " np.int64(0),\n",
              " np.int64(5),\n",
              " np.int64(4),\n",
              " np.int64(9),\n",
              " np.int64(9),\n",
              " np.int64(2),\n",
              " np.int64(1),\n",
              " np.int64(9),\n",
              " np.int64(4),\n",
              " np.int64(8),\n",
              " np.int64(7),\n",
              " np.int64(3),\n",
              " np.int64(9),\n",
              " np.int64(7),\n",
              " np.int64(4),\n",
              " np.int64(4),\n",
              " np.int64(4),\n",
              " np.int64(9),\n",
              " np.int64(2),\n",
              " np.int64(5),\n",
              " np.int64(4),\n",
              " np.int64(7),\n",
              " np.int64(6),\n",
              " np.int64(7),\n",
              " np.int64(9),\n",
              " np.int64(0),\n",
              " np.int64(5),\n",
              " np.int64(8),\n",
              " np.int64(5),\n",
              " np.int64(6),\n",
              " np.int64(6),\n",
              " np.int64(5),\n",
              " np.int64(7),\n",
              " np.int64(8),\n",
              " np.int64(1),\n",
              " np.int64(0),\n",
              " np.int64(1),\n",
              " np.int64(6),\n",
              " np.int64(4),\n",
              " np.int64(6),\n",
              " np.int64(7),\n",
              " np.int64(3),\n",
              " np.int64(1),\n",
              " np.int64(7),\n",
              " np.int64(1),\n",
              " np.int64(8),\n",
              " np.int64(2),\n",
              " np.int64(0),\n",
              " np.int64(2),\n",
              " np.int64(9),\n",
              " np.int64(9),\n",
              " np.int64(5),\n",
              " np.int64(5),\n",
              " np.int64(1),\n",
              " np.int64(5),\n",
              " np.int64(6),\n",
              " np.int64(0),\n",
              " np.int64(3),\n",
              " np.int64(4),\n",
              " np.int64(4),\n",
              " np.int64(6),\n",
              " np.int64(5),\n",
              " np.int64(4),\n",
              " np.int64(6),\n",
              " np.int64(5),\n",
              " np.int64(4),\n",
              " np.int64(5),\n",
              " np.int64(1),\n",
              " np.int64(4),\n",
              " np.int64(4),\n",
              " np.int64(7),\n",
              " np.int64(2),\n",
              " np.int64(3),\n",
              " np.int64(2),\n",
              " np.int64(7),\n",
              " np.int64(1),\n",
              " np.int64(8),\n",
              " np.int64(1),\n",
              " np.int64(8),\n",
              " np.int64(1),\n",
              " np.int64(8),\n",
              " np.int64(5),\n",
              " np.int64(0),\n",
              " np.int64(8),\n",
              " np.int64(9),\n",
              " np.int64(2),\n",
              " np.int64(5),\n",
              " np.int64(0),\n",
              " np.int64(1),\n",
              " np.int64(1),\n",
              " np.int64(1),\n",
              " np.int64(0),\n",
              " np.int64(9),\n",
              " np.int64(0),\n",
              " np.int64(3),\n",
              " np.int64(1),\n",
              " np.int64(6),\n",
              " np.int64(4),\n",
              " np.int64(2),\n",
              " np.int64(3),\n",
              " np.int64(6),\n",
              " np.int64(1),\n",
              " np.int64(1),\n",
              " np.int64(1),\n",
              " np.int64(3),\n",
              " np.int64(9),\n",
              " np.int64(5),\n",
              " np.int64(2),\n",
              " np.int64(9),\n",
              " np.int64(4),\n",
              " np.int64(5),\n",
              " np.int64(9),\n",
              " np.int64(3),\n",
              " np.int64(9),\n",
              " np.int64(0),\n",
              " np.int64(3),\n",
              " np.int64(6),\n",
              " np.int64(5),\n",
              " np.int64(5),\n",
              " np.int64(7),\n",
              " np.int64(2),\n",
              " np.int64(2),\n",
              " np.int64(7),\n",
              " np.int64(1),\n",
              " np.int64(2),\n",
              " np.int64(8),\n",
              " np.int64(4),\n",
              " np.int64(1),\n",
              " np.int64(7),\n",
              " np.int64(3),\n",
              " np.int64(3),\n",
              " np.int64(8),\n",
              " np.int64(8),\n",
              " np.int64(7),\n",
              " np.int64(9),\n",
              " np.int64(2),\n",
              " np.int64(2),\n",
              " np.int64(4),\n",
              " np.int64(1),\n",
              " np.int64(5),\n",
              " np.int64(9),\n",
              " np.int64(8),\n",
              " np.int64(7),\n",
              " np.int64(2),\n",
              " np.int64(3),\n",
              " np.int64(0),\n",
              " np.int64(6),\n",
              " np.int64(4),\n",
              " np.int64(2),\n",
              " np.int64(4),\n",
              " np.int64(1),\n",
              " np.int64(9),\n",
              " np.int64(5),\n",
              " np.int64(7),\n",
              " np.int64(7),\n",
              " np.int64(2),\n",
              " np.int64(8),\n",
              " np.int64(2),\n",
              " np.int64(6),\n",
              " np.int64(8),\n",
              " np.int64(5),\n",
              " np.int64(7),\n",
              " np.int64(7),\n",
              " np.int64(9),\n",
              " np.int64(1),\n",
              " np.int64(8),\n",
              " np.int64(1),\n",
              " np.int64(8),\n",
              " np.int64(0),\n",
              " np.int64(3),\n",
              " np.int64(0),\n",
              " np.int64(1),\n",
              " np.int64(9),\n",
              " np.int64(9),\n",
              " np.int64(4),\n",
              " np.int64(1),\n",
              " np.int64(8),\n",
              " np.int64(2),\n",
              " np.int64(1),\n",
              " np.int64(2),\n",
              " np.int64(9),\n",
              " np.int64(7),\n",
              " np.int64(5),\n",
              " np.int64(9),\n",
              " np.int64(2),\n",
              " np.int64(6),\n",
              " np.int64(4),\n",
              " np.int64(1),\n",
              " np.int64(5),\n",
              " np.int64(8),\n",
              " np.int64(2),\n",
              " np.int64(9),\n",
              " np.int64(2),\n",
              " np.int64(0),\n",
              " np.int64(4),\n",
              " np.int64(0),\n",
              " np.int64(0),\n",
              " np.int64(2),\n",
              " np.int64(8),\n",
              " np.int64(4),\n",
              " np.int64(7),\n",
              " np.int64(1),\n",
              " np.int64(2),\n",
              " np.int64(4),\n",
              " np.int64(0),\n",
              " np.int64(2),\n",
              " np.int64(7),\n",
              " np.int64(4),\n",
              " np.int64(3),\n",
              " np.int64(3),\n",
              " np.int64(0),\n",
              " np.int64(0),\n",
              " np.int64(3),\n",
              " np.int64(1),\n",
              " np.int64(9),\n",
              " np.int64(6),\n",
              " np.int64(5),\n",
              " np.int64(2),\n",
              " np.int64(5),\n",
              " np.int64(9),\n",
              " np.int64(2),\n",
              " np.int64(9),\n",
              " np.int64(3),\n",
              " np.int64(0),\n",
              " np.int64(4),\n",
              " np.int64(2),\n",
              " np.int64(0),\n",
              " np.int64(7),\n",
              " np.int64(1),\n",
              " np.int64(1),\n",
              " np.int64(2),\n",
              " np.int64(1),\n",
              " np.int64(5),\n",
              " np.int64(3),\n",
              " np.int64(3),\n",
              " np.int64(9),\n",
              " np.int64(7),\n",
              " np.int64(8),\n",
              " np.int64(6),\n",
              " np.int64(3),\n",
              " np.int64(6),\n",
              " np.int64(1),\n",
              " np.int64(3),\n",
              " np.int64(8),\n",
              " np.int64(1),\n",
              " np.int64(0),\n",
              " np.int64(5),\n",
              " np.int64(1),\n",
              " np.int64(3),\n",
              " np.int64(1),\n",
              " np.int64(5),\n",
              " np.int64(5),\n",
              " np.int64(6),\n",
              " np.int64(1),\n",
              " np.int64(8),\n",
              " np.int64(5),\n",
              " np.int64(1),\n",
              " np.int64(7),\n",
              " np.int64(8),\n",
              " np.int64(4),\n",
              " np.int64(6),\n",
              " np.int64(2),\n",
              " np.int64(2),\n",
              " np.int64(5),\n",
              " np.int64(0),\n",
              " np.int64(6),\n",
              " np.int64(5),\n",
              " np.int64(6),\n",
              " np.int64(3),\n",
              " np.int64(7),\n",
              " np.int64(2),\n",
              " np.int64(0),\n",
              " np.int64(8),\n",
              " np.int64(8),\n",
              " np.int64(5),\n",
              " np.int64(4),\n",
              " np.int64(1),\n",
              " np.int64(1),\n",
              " np.int64(4),\n",
              " np.int64(0),\n",
              " np.int64(3),\n",
              " np.int64(3),\n",
              " np.int64(7),\n",
              " np.int64(6),\n",
              " np.int64(1),\n",
              " np.int64(6),\n",
              " np.int64(2),\n",
              " np.int64(1),\n",
              " np.int64(9),\n",
              " np.int64(2),\n",
              " np.int64(8),\n",
              " np.int64(6),\n",
              " np.int64(1),\n",
              " np.int64(9),\n",
              " np.int64(5),\n",
              " np.int64(2),\n",
              " np.int64(5),\n",
              " np.int64(4),\n",
              " np.int64(4),\n",
              " np.int64(2),\n",
              " np.int64(8),\n",
              " np.int64(3),\n",
              " np.int64(8),\n",
              " np.int64(2),\n",
              " np.int64(4),\n",
              " np.int64(5),\n",
              " np.int64(0),\n",
              " np.int64(3),\n",
              " np.int64(1),\n",
              " np.int64(7),\n",
              " np.int64(7),\n",
              " np.int64(5),\n",
              " np.int64(7),\n",
              " np.int64(9),\n",
              " np.int64(7),\n",
              " np.int64(1),\n",
              " np.int64(9),\n",
              " np.int64(2),\n",
              " np.int64(1),\n",
              " np.int64(4),\n",
              " np.int64(2),\n",
              " np.int64(9),\n",
              " np.int64(2),\n",
              " np.int64(0),\n",
              " np.int64(4),\n",
              " np.int64(9),\n",
              " np.int64(1),\n",
              " np.int64(4),\n",
              " np.int64(8),\n",
              " np.int64(1),\n",
              " np.int64(8),\n",
              " np.int64(4),\n",
              " np.int64(5),\n",
              " np.int64(9),\n",
              " np.int64(8),\n",
              " np.int64(8),\n",
              " np.int64(3),\n",
              " np.int64(7),\n",
              " np.int64(6),\n",
              " np.int64(0),\n",
              " np.int64(0),\n",
              " np.int64(3),\n",
              " np.int64(0),\n",
              " np.int64(2),\n",
              " np.int64(0),\n",
              " np.int64(6),\n",
              " np.int64(4),\n",
              " np.int64(9),\n",
              " np.int64(3),\n",
              " np.int64(3),\n",
              " np.int64(3),\n",
              " np.int64(2),\n",
              " np.int64(3),\n",
              " np.int64(9),\n",
              " np.int64(1),\n",
              " np.int64(2),\n",
              " np.int64(6),\n",
              " np.int64(8),\n",
              " np.int64(0),\n",
              " np.int64(5),\n",
              " np.int64(6),\n",
              " np.int64(6),\n",
              " np.int64(6),\n",
              " np.int64(3),\n",
              " np.int64(8),\n",
              " np.int64(8),\n",
              " np.int64(2),\n",
              " np.int64(7),\n",
              " np.int64(5),\n",
              " np.int64(8),\n",
              " np.int64(9),\n",
              " np.int64(6),\n",
              " np.int64(1),\n",
              " np.int64(8),\n",
              " np.int64(4),\n",
              " np.int64(1),\n",
              " np.int64(2),\n",
              " np.int64(5),\n",
              " np.int64(9),\n",
              " np.int64(1),\n",
              " np.int64(9),\n",
              " np.int64(7),\n",
              " np.int64(5),\n",
              " np.int64(4),\n",
              " np.int64(0),\n",
              " np.int64(8),\n",
              " np.int64(9),\n",
              " np.int64(9),\n",
              " np.int64(1),\n",
              " np.int64(0),\n",
              " np.int64(5),\n",
              " np.int64(2),\n",
              " np.int64(3),\n",
              " np.int64(7),\n",
              " np.int64(8),\n",
              " np.int64(9),\n",
              " np.int64(4),\n",
              " np.int64(0),\n",
              " np.int64(6),\n",
              " np.int64(3),\n",
              " np.int64(9),\n",
              " np.int64(5),\n",
              " np.int64(2),\n",
              " np.int64(1),\n",
              " np.int64(3),\n",
              " np.int64(1),\n",
              " np.int64(3),\n",
              " np.int64(6),\n",
              " np.int64(5),\n",
              " np.int64(7),\n",
              " np.int64(4),\n",
              " np.int64(2),\n",
              " np.int64(2),\n",
              " np.int64(6),\n",
              " np.int64(3),\n",
              " np.int64(2),\n",
              " np.int64(6),\n",
              " np.int64(5),\n",
              " np.int64(4),\n",
              " np.int64(8),\n",
              " np.int64(9),\n",
              " np.int64(7),\n",
              " np.int64(1),\n",
              " np.int64(3),\n",
              " np.int64(0),\n",
              " np.int64(3),\n",
              " np.int64(8),\n",
              " np.int64(3),\n",
              " np.int64(1),\n",
              " np.int64(9),\n",
              " np.int64(3),\n",
              " np.int64(4),\n",
              " np.int64(4),\n",
              " np.int64(6),\n",
              " np.int64(4),\n",
              " np.int64(2),\n",
              " np.int64(1),\n",
              " np.int64(8),\n",
              " np.int64(2),\n",
              " np.int64(5),\n",
              " np.int64(4),\n",
              " np.int64(8),\n",
              " np.int64(8),\n",
              " np.int64(4),\n",
              " np.int64(0),\n",
              " np.int64(0),\n",
              " np.int64(2),\n",
              " np.int64(3),\n",
              " np.int64(2),\n",
              " np.int64(7),\n",
              " np.int64(7),\n",
              " np.int64(0),\n",
              " np.int64(8),\n",
              " np.int64(7),\n",
              " np.int64(4),\n",
              " np.int64(4),\n",
              " np.int64(7),\n",
              " np.int64(9),\n",
              " np.int64(6),\n",
              " np.int64(9),\n",
              " np.int64(0),\n",
              " np.int64(9),\n",
              " np.int64(8),\n",
              " np.int64(0),\n",
              " np.int64(4),\n",
              " np.int64(6),\n",
              " np.int64(0),\n",
              " np.int64(6),\n",
              " np.int64(3),\n",
              " np.int64(5),\n",
              " np.int64(4),\n",
              " np.int64(8),\n",
              " np.int64(3),\n",
              " np.int64(3),\n",
              " np.int64(9),\n",
              " np.int64(3),\n",
              " np.int64(3),\n",
              " np.int64(3),\n",
              " np.int64(7),\n",
              " np.int64(8),\n",
              " np.int64(0),\n",
              " np.int64(8),\n",
              " np.int64(7),\n",
              " np.int64(1),\n",
              " np.int64(7),\n",
              " np.int64(0),\n",
              " np.int64(6),\n",
              " np.int64(5),\n",
              " np.int64(4),\n",
              " np.int64(3),\n",
              " np.int64(8),\n",
              " np.int64(0),\n",
              " np.int64(9),\n",
              " np.int64(6),\n",
              " np.int64(3),\n",
              " np.int64(8),\n",
              " np.int64(0),\n",
              " np.int64(9),\n",
              " np.int64(9),\n",
              " np.int64(6),\n",
              " np.int64(8),\n",
              " np.int64(6),\n",
              " np.int64(8),\n",
              " np.int64(5),\n",
              " np.int64(7),\n",
              " np.int64(8),\n",
              " np.int64(6),\n",
              " np.int64(0),\n",
              " np.int64(2),\n",
              " np.int64(4),\n",
              " np.int64(0),\n",
              " np.int64(2),\n",
              " np.int64(2),\n",
              " np.int64(3),\n",
              " np.int64(1),\n",
              " np.int64(9),\n",
              " np.int64(7),\n",
              " np.int64(5),\n",
              " np.int64(1),\n",
              " np.int64(0),\n",
              " np.int64(8),\n",
              " np.int64(4),\n",
              " np.int64(6),\n",
              " np.int64(2),\n",
              " np.int64(4),\n",
              " np.int64(7),\n",
              " np.int64(9),\n",
              " np.int64(3),\n",
              " np.int64(2),\n",
              " np.int64(9),\n",
              " np.int64(8),\n",
              " np.int64(2),\n",
              " np.int64(2),\n",
              " np.int64(9),\n",
              " np.int64(2),\n",
              " np.int64(7),\n",
              " np.int64(3),\n",
              " np.int64(5),\n",
              " np.int64(9),\n",
              " np.int64(1),\n",
              " np.int64(8),\n",
              " np.int64(0),\n",
              " np.int64(2),\n",
              " np.int64(0),\n",
              " np.int64(5),\n",
              " np.int64(4),\n",
              " np.int64(1),\n",
              " np.int64(3),\n",
              " np.int64(7),\n",
              " np.int64(6),\n",
              " np.int64(7),\n",
              " np.int64(1),\n",
              " np.int64(2),\n",
              " np.int64(5),\n",
              " np.int64(8),\n",
              " np.int64(0),\n",
              " np.int64(3),\n",
              " np.int64(7),\n",
              " np.int64(2),\n",
              " np.int64(4),\n",
              " np.int64(0),\n",
              " np.int64(9),\n",
              " np.int64(1),\n",
              " np.int64(8),\n",
              " np.int64(6),\n",
              " np.int64(7),\n",
              " np.int64(7),\n",
              " np.int64(4),\n",
              " np.int64(3),\n",
              " np.int64(4),\n",
              " np.int64(9),\n",
              " np.int64(1),\n",
              " np.int64(9),\n",
              " np.int64(5),\n",
              " np.int64(1),\n",
              " np.int64(7),\n",
              " np.int64(3),\n",
              " np.int64(9),\n",
              " np.int64(7),\n",
              " np.int64(6),\n",
              " np.int64(9),\n",
              " np.int64(1),\n",
              " np.int64(3),\n",
              " np.int64(3),\n",
              " np.int64(8),\n",
              " np.int64(3),\n",
              " np.int64(3),\n",
              " np.int64(6),\n",
              " np.int64(7),\n",
              " np.int64(2),\n",
              " np.int64(8),\n",
              " np.int64(5),\n",
              " np.int64(8),\n",
              " np.int64(5),\n",
              " np.int64(1),\n",
              " np.int64(1),\n",
              " np.int64(4),\n",
              " np.int64(4),\n",
              " np.int64(3),\n",
              " np.int64(1),\n",
              " np.int64(0),\n",
              " np.int64(7),\n",
              " np.int64(7),\n",
              " np.int64(0),\n",
              " np.int64(7),\n",
              " np.int64(9),\n",
              " np.int64(4),\n",
              " np.int64(4),\n",
              " np.int64(8),\n",
              " np.int64(5),\n",
              " np.int64(5),\n",
              " np.int64(4),\n",
              " np.int64(0),\n",
              " np.int64(8),\n",
              " np.int64(2),\n",
              " np.int64(1),\n",
              " np.int64(0),\n",
              " np.int64(8),\n",
              " np.int64(4),\n",
              " np.int64(5),\n",
              " np.int64(0),\n",
              " np.int64(4),\n",
              " np.int64(0),\n",
              " np.int64(6),\n",
              " np.int64(1),\n",
              " np.int64(3),\n",
              " np.int64(3),\n",
              " np.int64(2),\n",
              " np.int64(6),\n",
              " np.int64(7),\n",
              " np.int64(2),\n",
              " np.int64(6),\n",
              " np.int64(9),\n",
              " np.int64(3),\n",
              " np.int64(1),\n",
              " np.int64(4),\n",
              " np.int64(6),\n",
              " np.int64(2),\n",
              " np.int64(5),\n",
              " np.int64(4),\n",
              " np.int64(2),\n",
              " np.int64(0),\n",
              " np.int64(6),\n",
              " np.int64(2),\n",
              " np.int64(1),\n",
              " np.int64(7),\n",
              " np.int64(3),\n",
              " np.int64(4),\n",
              " np.int64(1),\n",
              " np.int64(0),\n",
              " np.int64(5),\n",
              " np.int64(4),\n",
              " np.int64(3),\n",
              " np.int64(1),\n",
              " np.int64(1),\n",
              " np.int64(7),\n",
              " np.int64(4),\n",
              " np.int64(9),\n",
              " np.int64(9),\n",
              " np.int64(4),\n",
              " np.int64(8),\n",
              " np.int64(4),\n",
              " np.int64(0),\n",
              " np.int64(2),\n",
              " np.int64(4),\n",
              " np.int64(5),\n",
              " np.int64(1),\n",
              " np.int64(1),\n",
              " np.int64(6),\n",
              " np.int64(4),\n",
              " np.int64(7),\n",
              " np.int64(1),\n",
              " np.int64(9),\n",
              " np.int64(4),\n",
              " np.int64(2),\n",
              " np.int64(4),\n",
              " np.int64(1),\n",
              " np.int64(5),\n",
              " np.int64(5),\n",
              " np.int64(3),\n",
              " np.int64(8),\n",
              " np.int64(3),\n",
              " np.int64(1),\n",
              " np.int64(4),\n",
              " np.int64(5),\n",
              " np.int64(6),\n",
              " np.int64(8),\n",
              " np.int64(9),\n",
              " np.int64(4),\n",
              " np.int64(1),\n",
              " np.int64(5),\n",
              " np.int64(3),\n",
              " np.int64(8),\n",
              " np.int64(0),\n",
              " np.int64(3),\n",
              " np.int64(2),\n",
              " np.int64(5),\n",
              " np.int64(1),\n",
              " np.int64(2),\n",
              " np.int64(8),\n",
              " np.int64(3),\n",
              " np.int64(4),\n",
              " np.int64(4),\n",
              " np.int64(0),\n",
              " np.int64(8),\n",
              " np.int64(8),\n",
              " np.int64(3),\n",
              " np.int64(3),\n",
              " np.int64(1),\n",
              " np.int64(7),\n",
              " np.int64(3),\n",
              " np.int64(5),\n",
              " np.int64(9),\n",
              " np.int64(6),\n",
              " np.int64(3),\n",
              " np.int64(2),\n",
              " np.int64(6),\n",
              " np.int64(1),\n",
              " np.int64(3),\n",
              " np.int64(6),\n",
              " np.int64(0),\n",
              " np.int64(7),\n",
              " np.int64(2),\n",
              " np.int64(1),\n",
              " np.int64(7),\n",
              " np.int64(1),\n",
              " np.int64(4),\n",
              " np.int64(2),\n",
              " np.int64(4),\n",
              " np.int64(2),\n",
              " np.int64(1),\n",
              " np.int64(7),\n",
              " np.int64(9),\n",
              " np.int64(6),\n",
              " np.int64(1),\n",
              " np.int64(1),\n",
              " np.int64(2),\n",
              " np.int64(4),\n",
              " np.int64(8),\n",
              " np.int64(1),\n",
              " np.int64(7),\n",
              " np.int64(7),\n",
              " np.int64(4),\n",
              " np.int64(8),\n",
              " np.int64(0),\n",
              " np.int64(9),\n",
              " np.int64(3),\n",
              " np.int64(1),\n",
              " np.int64(3),\n",
              " np.int64(1),\n",
              " np.int64(0),\n",
              " np.int64(7),\n",
              " np.int64(7),\n",
              " np.int64(0),\n",
              " np.int64(3),\n",
              " np.int64(5),\n",
              " np.int64(5),\n",
              " np.int64(2),\n",
              " np.int64(7),\n",
              " np.int64(6),\n",
              " np.int64(6),\n",
              " np.int64(9),\n",
              " np.int64(2),\n",
              " np.int64(8),\n",
              " np.int64(3),\n",
              " np.int64(5),\n",
              " np.int64(2),\n",
              " np.int64(2),\n",
              " np.int64(5),\n",
              " np.int64(6),\n",
              " np.int64(0),\n",
              " np.int64(8),\n",
              " np.int64(2),\n",
              " np.int64(9),\n",
              " np.int64(2),\n",
              " np.int64(8),\n",
              " np.int64(8),\n",
              " np.int64(8),\n",
              " np.int64(8),\n",
              " np.int64(7),\n",
              " np.int64(4),\n",
              " np.int64(9),\n",
              " np.int64(3),\n",
              " np.int64(0),\n",
              " np.int64(6),\n",
              " np.int64(6),\n",
              " np.int64(3),\n",
              " np.int64(2),\n",
              " np.int64(1),\n",
              " np.int64(3),\n",
              " np.int64(2),\n",
              " np.int64(2),\n",
              " np.int64(9),\n",
              " np.int64(3),\n",
              " np.int64(0),\n",
              " np.int64(0),\n",
              " np.int64(5),\n",
              " np.int64(7),\n",
              " np.int64(8),\n",
              " np.int64(1),\n",
              " np.int64(4),\n",
              " np.int64(4),\n",
              " np.int64(6),\n",
              " np.int64(0),\n",
              " np.int64(2),\n",
              " np.int64(9),\n",
              " np.int64(1),\n",
              " np.int64(4),\n",
              " np.int64(7),\n",
              " np.int64(4),\n",
              " np.int64(7),\n",
              " np.int64(3),\n",
              " np.int64(9),\n",
              " np.int64(8),\n",
              " np.int64(8),\n",
              " np.int64(4),\n",
              " np.int64(7),\n",
              " np.int64(1),\n",
              " np.int64(2),\n",
              " np.int64(1),\n",
              " np.int64(2),\n",
              " np.int64(2),\n",
              " np.int64(3),\n",
              " np.int64(2),\n",
              " np.int64(3),\n",
              " np.int64(2),\n",
              " np.int64(3),\n",
              " np.int64(9),\n",
              " np.int64(1),\n",
              " np.int64(7),\n",
              " np.int64(4),\n",
              " np.int64(0),\n",
              " np.int64(3),\n",
              " np.int64(5),\n",
              " np.int64(5),\n",
              " np.int64(8),\n",
              " np.int64(6),\n",
              " np.int64(3),\n",
              " np.int64(2),\n",
              " np.int64(6),\n",
              " np.int64(7),\n",
              " np.int64(6),\n",
              " np.int64(6),\n",
              " np.int64(3),\n",
              " np.int64(2),\n",
              " np.int64(7),\n",
              " np.int64(8),\n",
              " np.int64(1),\n",
              " np.int64(1),\n",
              " np.int64(7),\n",
              " np.int64(5),\n",
              " np.int64(6),\n",
              " np.int64(4),\n",
              " np.int64(9),\n",
              " np.int64(5),\n",
              " np.int64(3),\n",
              " np.int64(3),\n",
              " np.int64(3),\n",
              " np.int64(4),\n",
              " np.int64(7),\n",
              " np.int64(8),\n",
              " np.int64(9),\n",
              " np.int64(1),\n",
              " np.int64(1),\n",
              " np.int64(6),\n",
              " np.int64(9),\n",
              " np.int64(1),\n",
              " np.int64(4),\n",
              " np.int64(4),\n",
              " np.int64(5),\n",
              " np.int64(4),\n",
              " np.int64(0),\n",
              " np.int64(6),\n",
              " np.int64(2),\n",
              " np.int64(2),\n",
              " np.int64(3),\n",
              " np.int64(1),\n",
              " np.int64(5),\n",
              " np.int64(1),\n",
              " np.int64(2),\n",
              " np.int64(0),\n",
              " np.int64(3),\n",
              " np.int64(8),\n",
              " np.int64(1),\n",
              " np.int64(2),\n",
              " np.int64(6),\n",
              " np.int64(7),\n",
              " np.int64(1),\n",
              " np.int64(6),\n",
              " np.int64(2),\n",
              " np.int64(3),\n",
              " np.int64(9),\n",
              " np.int64(0),\n",
              " np.int64(1),\n",
              " np.int64(2),\n",
              " np.int64(2),\n",
              " np.int64(0),\n",
              " np.int64(8),\n",
              " np.int64(9),\n",
              " ...]"
            ]
          },
          "metadata": {},
          "execution_count": 29
        }
      ]
    },
    {
      "cell_type": "code",
      "source": [
        "# printing the first five output\n",
        "print('The actual label for first 5 images:', list(y_test[0:5]))\n",
        "print('The predicted label for first 5 images:', y_class[0:5])"
      ],
      "metadata": {
        "colab": {
          "base_uri": "https://localhost:8080/"
        },
        "id": "10zEX2qbzF_W",
        "outputId": "a8065416-f1da-4e8f-c6f4-d21ee8ee0dd7"
      },
      "execution_count": null,
      "outputs": [
        {
          "output_type": "stream",
          "name": "stdout",
          "text": [
            "The actual label for first 5 images: [np.uint8(7), np.uint8(2), np.uint8(1), np.uint8(0), np.uint8(4)]\n",
            "The predicted label for first 5 images: [np.int64(7), np.int64(2), np.int64(1), np.int64(0), np.int64(4)]\n"
          ]
        }
      ]
    },
    {
      "cell_type": "code",
      "source": [
        "def validate_rdm_img():\n",
        "\n",
        "    rdm_img = random.randint(0, len(x_test))\n",
        "    plt.imshow(x_test[rdm_img], cmap='grey')\n",
        "    plt.show()\n",
        "\n",
        "    print('Actual Image is:', [y_test[rdm_img]])\n",
        "    print('Predicted Image is:', [y_class[rdm_img]])\n",
        "    print('Predicted Image probability:', round(y_pred[rdm_img][y_class[rdm_img]]*100, 2), '%')"
      ],
      "metadata": {
        "id": "2-VOyXMEzGCu"
      },
      "execution_count": null,
      "outputs": []
    },
    {
      "cell_type": "code",
      "source": [
        "validate_rdm_img()"
      ],
      "metadata": {
        "colab": {
          "base_uri": "https://localhost:8080/",
          "height": 482
        },
        "id": "xMvmbTufzzw7",
        "outputId": "d4850b6c-7250-4588-89b1-19a0cbd56c8f"
      },
      "execution_count": null,
      "outputs": [
        {
          "output_type": "display_data",
          "data": {
            "text/plain": [
              "<Figure size 640x480 with 1 Axes>"
            ],
            "image/png": "[encoded data removed]"
          },
          "metadata": {}
        },
        {
          "output_type": "stream",
          "name": "stdout",
          "text": [
            "Actual Image is: [np.uint8(4)]\n",
            "Predicted Image is: [np.int64(4)]\n",
            "Predicted Image probability: 99.99 %\n"
          ]
        }
      ]
    },
    {
      "cell_type": "code",
      "source": [
        "# validation metrics\n",
        "cm = ConfusionMatrixDisplay.from_predictions(y_test, y_class,\n",
        "                                             xticks_rotation='vertical', cmap='Purples')"
      ],
      "metadata": {
        "colab": {
          "base_uri": "https://localhost:8080/",
          "height": 444
        },
        "id": "S0070Nyl0Lfd",
        "outputId": "845135c5-d3d8-475a-f939-276a68da4eba"
      },
      "execution_count": null,
      "outputs": [
        {
          "output_type": "display_data",
          "data": {
            "text/plain": [
              "<Figure size 640x480 with 2 Axes>"
            ],
            "image/png": "[encoded data removed]"
          },
          "metadata": {}
        }
      ]
    },
    {
      "cell_type": "code",
      "source": [
        "# classification report\n",
        "report = classification_report(y_test, y_class)\n",
        "print(report)"
      ],
      "metadata": {
        "colab": {
          "base_uri": "https://localhost:8080/"
        },
        "id": "26JG8Sqk0Y1X",
        "outputId": "8cbcb18e-afe9-4e9f-ecb5-ecbac1d82af3"
      },
      "execution_count": null,
      "outputs": [
        {
          "output_type": "stream",
          "name": "stdout",
          "text": [
            "              precision    recall  f1-score   support\n",
            "\n",
            "           0       0.99      1.00      0.99       980\n",
            "           1       1.00      0.99      0.99      1135\n",
            "           2       1.00      0.99      0.99      1032\n",
            "           3       0.98      1.00      0.99      1010\n",
            "           4       0.99      0.99      0.99       982\n",
            "           5       0.99      0.99      0.99       892\n",
            "           6       0.99      0.99      0.99       958\n",
            "           7       0.99      0.99      0.99      1028\n",
            "           8       0.99      0.99      0.99       974\n",
            "           9       0.99      0.99      0.99      1009\n",
            "\n",
            "    accuracy                           0.99     10000\n",
            "   macro avg       0.99      0.99      0.99     10000\n",
            "weighted avg       0.99      0.99      0.99     10000\n",
            "\n"
          ]
        }
      ]
    },
    {
      "cell_type": "code",
      "source": [],
      "metadata": {
        "id": "xzwLu-jS03_j"
      },
      "execution_count": null,
      "outputs": []
    },
    {
      "cell_type": "code",
      "source": [],
      "metadata": {
        "id": "qWnQ7Cca04f1"
      },
      "execution_count": null,
      "outputs": []
    },
    {
      "cell_type": "code",
      "source": [],
      "metadata": {
        "id": "iLDFyUim04ig"
      },
      "execution_count": null,
      "outputs": []
    },
    {
      "cell_type": "code",
      "source": [],
      "metadata": {
        "id": "a9SKZgzU04mD"
      },
      "execution_count": null,
      "outputs": []
    }
  ]
}